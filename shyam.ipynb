{
  "nbformat": 4,
  "nbformat_minor": 0,
  "metadata": {
    "colab": {
      "provenance": [],
      "include_colab_link": true
    },
    "kernelspec": {
      "name": "python3",
      "display_name": "Python 3"
    },
    "language_info": {
      "name": "python"
    }
  },
  "cells": [
    {
      "cell_type": "markdown",
      "metadata": {
        "id": "view-in-github",
        "colab_type": "text"
      },
      "source": [
        "<a href=\"https://colab.research.google.com/github/shyamm1089/CARDIVASCULAR-CLASSIFICATION/blob/main/shyam.ipynb\" target=\"_parent\"><img src=\"https://colab.research.google.com/assets/colab-badge.svg\" alt=\"Open In Colab\"/></a>"
      ]
    },
    {
      "cell_type": "code",
      "execution_count": null,
      "metadata": {
        "id": "0KHEUAhSXcpB"
      },
      "outputs": [],
      "source": [
        "import pandas as pd\n",
        "import scipy.stats as stats\n",
        "from statsmodels.formula.api import ols\n",
        "from statsmodels.stats.anova import anova_lm\n"
      ]
    },
    {
      "cell_type": "code",
      "source": [
        "cardio = pd.read_csv('cardio_train.csv', sep=';')"
      ],
      "metadata": {
        "id": "agbLKctIZYga"
      },
      "execution_count": null,
      "outputs": []
    },
    {
      "cell_type": "code",
      "source": [
        "cardio = cardio[cardio['ap_lo'] < 500]\n"
      ],
      "metadata": {
        "id": "M_CbamEIbQJ0"
      },
      "execution_count": null,
      "outputs": []
    },
    {
      "cell_type": "code",
      "source": [
        "weight_mean = 70\n",
        "t_stat_cardio, p_value_cardio = stats.ttest_1samp(cardio['weight'], weight_mean)\n",
        "print(\"Cardio One-Sample t-Test (Weight, mean=70):\")\n",
        "print(f\"t-statistic: {t_stat_cardio:.4f}, p-value: {p_value_cardio:.4f}\")"
      ],
      "metadata": {
        "colab": {
          "base_uri": "https://localhost:8080/"
        },
        "id": "g_D4AQoUfnL1",
        "outputId": "cc72fd1e-3704-4e3e-fd97-b94964da38df"
      },
      "execution_count": null,
      "outputs": [
        {
          "output_type": "stream",
          "name": "stdout",
          "text": [
            "Cardio One-Sample t-Test (Weight, mean=70):\n",
            "t-statistic: 75.4711, p-value: 0.0000\n"
          ]
        }
      ]
    },
    {
      "cell_type": "code",
      "source": [
        "weight_0 = cardio[cardio['cardio'] == 0]['weight']\n",
        "weight_1 = cardio[cardio['cardio'] == 1]['weight']\n",
        "t_stat_2sample_cardio, p_value_2sample_cardio = stats.ttest_ind(weight_0, weight_1)\n",
        "print(\"\\nCardio Two-Sample t-Test (Weight by Cardio):\")\n",
        "print(f\"t-statistic: {t_stat_2sample_cardio:.4f}, p-value: {p_value_2sample_cardio:.4f}\")"
      ],
      "metadata": {
        "colab": {
          "base_uri": "https://localhost:8080/"
        },
        "id": "r13u8OzqftDr",
        "outputId": "6af909f2-0488-4c7b-9eff-2b92de739671"
      },
      "execution_count": null,
      "outputs": [
        {
          "output_type": "stream",
          "name": "stdout",
          "text": [
            "\n",
            "Cardio Two-Sample t-Test (Weight by Cardio):\n",
            "t-statistic: -48.0701, p-value: 0.0000\n"
          ]
        }
      ]
    },
    {
      "cell_type": "code",
      "source": [
        "model_cardio = ols('weight ~ C(cholesterol)', data=cardio).fit()\n",
        "anova_cardio = anova_lm(model_cardio)\n",
        "print(\"\\nCardio One-Way ANOVA (Weight by Cholesterol):\")\n",
        "print(anova_cardio)"
      ],
      "metadata": {
        "id": "hytU1gLDfvjA",
        "outputId": "98abf2ad-4cec-408d-848d-1af72d2c3e29",
        "colab": {
          "base_uri": "https://localhost:8080/"
        }
      },
      "execution_count": null,
      "outputs": [
        {
          "output_type": "stream",
          "name": "stdout",
          "text": [
            "\n",
            "Cardio One-Way ANOVA (Weight by Cholesterol):\n",
            "                     df        sum_sq        mean_sq           F  \\\n",
            "C(cholesterol)      2.0  2.839666e+05  141983.289810  705.739406   \n",
            "Residual        69044.0  1.389053e+07     201.183735         NaN   \n",
            "\n",
            "                       PR(>F)  \n",
            "C(cholesterol)  3.909496e-304  \n",
            "Residual                  NaN  \n"
          ]
        }
      ]
    }
  ]
}